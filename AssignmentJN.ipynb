{
  "metadata": {
    "kernelspec": {
      "name": "xpython",
      "display_name": "Python 3.13 (XPython)",
      "language": "python"
    },
    "language_info": {
      "file_extension": ".py",
      "mimetype": "text/x-python",
      "name": "python",
      "version": "3.13.1"
    }
  },
  "nbformat_minor": 5,
  "nbformat": 4,
  "cells": [
    {
      "id": "089a9160-a8a2-4352-bbf9-b6c3531750f2",
      "cell_type": "markdown",
      "source": "# Data Science Introduction Notebook\n",
      "metadata": {}
    },
    {
      "id": "15c5d95b-059d-47d6-8a3c-aee806f62bfc",
      "cell_type": "markdown",
      "source": "## Introduction\n\nThis notebook introduces fundamental concepts of data science including programming languages, libraries, tools, and basic arithmetic operations relevant to data analysis.\n",
      "metadata": {
        "jp-MarkdownHeadingCollapsed": true
      }
    },
    {
      "id": "9316c31f-b58c-47b0-abf2-87cdbbe4771f",
      "cell_type": "markdown",
      "source": "## Data Science Languages\n\n- Python  \n- R  \n- SQL  \n- Julia  \n- Scala\n",
      "metadata": {}
    },
    {
      "id": "98310e86-b78e-46ab-b741-a899c05c2155",
      "cell_type": "markdown",
      "source": "## Data Science Libraries\n\n- NumPy  \n- Pandas  \n- Matplotlib  \n- Scikit-learn  \n- TensorFlow  \n- ggplot2\n",
      "metadata": {}
    },
    {
      "id": "1aa6da01-32ce-482a-9407-e94455c38b5c",
      "cell_type": "markdown",
      "source": "## Data Science Tools\n\n| Tool             | Purpose                              | Example Use Case            |\n|------------------|--------------------------------------|-----------------------------|\n| Jupyter Notebook | Interactive coding and visualization | Data analysis and reporting |\n| GitHub           | Version control and collaboration    | Sharing and managing code   |\n| Apache Spark     | Big data processing                  | Large-scale data processing |\n| Tableau          | Data visualization                   | Creating dashboards         |\n",
      "metadata": {}
    },
    {
      "id": "bc6b315d-beb5-4239-8864-7992e54b4c8c",
      "cell_type": "markdown",
      "source": "## Arithmetic Expression Examples\n\nThis section contains examples of basic arithmetic operations commonly used in data science calculations.\n",
      "metadata": {}
    },
    {
      "id": "666aa4b2-3681-471f-b174-0ce59b19a4c7",
      "cell_type": "code",
      "source": "# Multiply 5 and 3, then add 10\nresult = 5 * 3 + 10\nresult\n",
      "metadata": {
        "trusted": true
      },
      "outputs": [
        {
          "execution_count": 7,
          "output_type": "execute_result",
          "data": {
            "text/plain": "25"
          },
          "metadata": {}
        }
      ],
      "execution_count": 7
    },
    {
      "id": "169b6603-b1e6-4835-9571-9522c05d590b",
      "cell_type": "code",
      "source": "# Convert 150 minutes to hours\nminutes = 150\nhours = minutes / 60\nhours\n",
      "metadata": {
        "trusted": true
      },
      "outputs": [
        {
          "execution_count": 8,
          "output_type": "execute_result",
          "data": {
            "text/plain": "2.5"
          },
          "metadata": {}
        }
      ],
      "execution_count": 8
    },
    {
      "id": "9f3900fd-b6f0-45fd-ae37-94f723a22d96",
      "cell_type": "markdown",
      "source": "## Objectives\n\n- Understand key data science languages and libraries  \n- Learn to perform basic arithmetic operations in code  \n- Become familiar with common data science tools  \n- Practice documenting and sharing notebooks\n",
      "metadata": {}
    },
    {
      "id": "5cbc7c7c-1de5-4962-8f7f-a607baadd19d",
      "cell_type": "markdown",
      "source": "## Author\n\nAnukriti Jaya Sinha\n",
      "metadata": {}
    }
  ]
}